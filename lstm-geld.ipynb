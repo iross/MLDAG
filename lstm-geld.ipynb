{
 "cells": [
  {
   "cell_type": "code",
   "execution_count": 1,
   "id": "31c76ac1-20ea-4a2d-afcb-65d3763ec6c5",
   "metadata": {},
   "outputs": [],
   "source": [
    "import json\n",
    "import torch\n",
    "import torch.nn as nn\n",
    "import torch.optim as optim\n",
    "from torch.utils.data import DataLoader, TensorDataset\n",
    "import pandas as pd\n",
    "import numpy as np\n",
    "from collections import Counter\n",
    "\n",
    "# Define device\n",
    "device = torch.device(\"cuda\" if torch.cuda.is_available() else \"cpu\")\n",
    "\n",
    "# Sample data\n",
    "with open('../geld labeled data/logs2ts_out4_combined.json', 'r') as f:\n",
    "    logs = json.load(f)\n",
    "slices = [item[0] for item in logs]\n",
    "labels = [0 if item[1] == 'transient' else 1 for item in logs] # 0=transient, 1=non-transient\n",
    "partition_idx = int(len(slices) * 0.80)\n",
    "x_train = torch.tensor(np.array(slices[0:partition_idx]), dtype=torch.float32)\n",
    "y_train = torch.tensor(np.array(labels[0:partition_idx]), dtype=torch.int)\n",
    "x_test = torch.tensor(np.array(slices[partition_idx + 1:]), dtype=torch.float32)\n",
    "y_test = torch.tensor(np.array(labels[partition_idx + 1:]), dtype=torch.int)"
   ]
  },
  {
   "cell_type": "code",
   "execution_count": 2,
   "id": "a7697039-6c3f-4282-80fc-d586e99bc0c8",
   "metadata": {},
   "outputs": [
    {
     "name": "stdout",
     "output_type": "stream",
     "text": [
      "train [0 1] [5835 6132] [0.48759087490599146, 0.5124091250940085]\n",
      "test [0 1] [1319 1672] [0.44098963557338683, 0.5590103644266132]\n"
     ]
    }
   ],
   "source": [
    "# Data stats\n",
    "\n",
    "# train label distribution\n",
    "unique, counts = np.unique(y_train, return_counts=True)\n",
    "total = counts.sum()\n",
    "print('train', unique, counts, [v / total for i, v in enumerate(counts)])\n",
    "\n",
    "# test label distribution\n",
    "unique, counts = np.unique(y_test, return_counts=True)\n",
    "total = counts.sum()\n",
    "print('test', unique, counts, [v / total for i, v in enumerate(counts)])"
   ]
  },
  {
   "cell_type": "code",
   "execution_count": 3,
   "id": "cb956553-1173-4735-a97e-41855f37b175",
   "metadata": {},
   "outputs": [
    {
     "name": "stdout",
     "output_type": "stream",
     "text": [
      "Epoch [1/25], Step [47/47], Loss: 0.2608\n",
      "Epoch [2/25], Step [47/47], Loss: 0.0702\n",
      "Epoch [3/25], Step [47/47], Loss: 0.0085\n",
      "Epoch [4/25], Step [47/47], Loss: 0.0540\n",
      "Epoch [5/25], Step [47/47], Loss: 0.0127\n",
      "Epoch [6/25], Step [47/47], Loss: 0.0025\n",
      "Epoch [7/25], Step [47/47], Loss: 0.0028\n",
      "Epoch [8/25], Step [47/47], Loss: 0.0008\n",
      "Epoch [9/25], Step [47/47], Loss: 0.0007\n",
      "Epoch [10/25], Step [47/47], Loss: 0.0004\n",
      "Epoch [11/25], Step [47/47], Loss: 0.0090\n",
      "Epoch [12/25], Step [47/47], Loss: 0.0025\n",
      "Epoch [13/25], Step [47/47], Loss: 0.0002\n",
      "Epoch [14/25], Step [47/47], Loss: 0.0004\n",
      "Epoch [15/25], Step [47/47], Loss: 0.0002\n",
      "Epoch [16/25], Step [47/47], Loss: 0.0002\n",
      "Epoch [17/25], Step [47/47], Loss: 0.0004\n",
      "Epoch [18/25], Step [47/47], Loss: 0.0002\n",
      "Epoch [19/25], Step [47/47], Loss: 0.0001\n",
      "Epoch [20/25], Step [47/47], Loss: 0.0001\n",
      "Epoch [21/25], Step [47/47], Loss: 0.0001\n",
      "Epoch [22/25], Step [47/47], Loss: 0.0001\n",
      "Epoch [23/25], Step [47/47], Loss: 0.0001\n",
      "Epoch [24/25], Step [47/47], Loss: 0.0001\n",
      "Epoch [25/25], Step [47/47], Loss: 0.0001\n",
      "Training finished.\n"
     ]
    }
   ],
   "source": [
    "# Define the LSTM network\n",
    "class LSTMNet(nn.Module):\n",
    "    def __init__(self, input_size, hidden_size, num_layers, num_classes):\n",
    "        super(LSTMNet, self).__init__()\n",
    "        self.hidden_size = hidden_size\n",
    "        self.num_layers = num_layers\n",
    "        self.lstm = nn.LSTM(input_size, hidden_size, num_layers, batch_first=True)\n",
    "        self.fc = nn.Linear(hidden_size, num_classes)\n",
    "        self.sigmoid = nn.Sigmoid()\n",
    "\n",
    "    def forward(self, x):\n",
    "        # Initialize hidden state and cell state\n",
    "        h0 = torch.zeros(self.num_layers, x.size(0), self.hidden_size).to(x.device)\n",
    "        c0 = torch.zeros(self.num_layers, x.size(0), self.hidden_size).to(x.device)\n",
    "\n",
    "        # Forward propagate LSTM\n",
    "        out, _ = self.lstm(x, (h0, c0))  # out: tensor of shape (batch_size, seq_length, hidden_size)\n",
    "\n",
    "        # Decode the hidden state of the last time step\n",
    "        out = self.fc(out[:, -1, :])  # Get the last time step output\n",
    "        out = self.sigmoid(out)\n",
    "        \n",
    "        return out\n",
    "\n",
    "# Hyperparameters\n",
    "input_size = 46       # Number of features\n",
    "hidden_size = 75     # Number of hidden units\n",
    "num_layers = 2       # Number of LSTM layers\n",
    "num_classes = 1      # Number of output classes (for binary classification)\n",
    "num_epochs = 25      # Number of epochs\n",
    "batch_size = 256      # Batch size\n",
    "learning_rate = 0.001  # Learning rate\n",
    "\n",
    "# Create DataLoader\n",
    "train_dataset = TensorDataset(x_train, y_train)\n",
    "train_loader = DataLoader(dataset=train_dataset, batch_size=batch_size, shuffle=True)\n",
    "\n",
    "# Initialize the model, loss function, and optimizer\n",
    "model = LSTMNet(input_size, hidden_size, num_layers, num_classes).to(device)\n",
    "criterion = nn.BCELoss()\n",
    "optimizer = optim.Adam(model.parameters(), lr=learning_rate)\n",
    "\n",
    "# Training loop\n",
    "for epoch in range(num_epochs):\n",
    "    \n",
    "    for i, (sequences, labels) in enumerate(train_loader):\n",
    "        sequences = sequences.to(device)\n",
    "        labels = labels.to(device).float()\n",
    "\n",
    "        # Forward pass\n",
    "        outputs = model(sequences)\n",
    "        loss = criterion(outputs.squeeze(), labels)\n",
    "\n",
    "        # Backward pass and optimization\n",
    "        optimizer.zero_grad()\n",
    "        loss.backward()\n",
    "        optimizer.step()\n",
    "    \n",
    "    print(f'Epoch [{epoch + 1}/{num_epochs}], Step [{i + 1}/{len(train_loader)}], Loss: {loss.item():.4f}')\n",
    "\n",
    "print('Training finished.')"
   ]
  },
  {
   "cell_type": "code",
   "execution_count": 4,
   "id": "1322267d-1824-425b-a59a-dbf235b71055",
   "metadata": {
    "scrolled": true
   },
   "outputs": [
    {
     "name": "stdout",
     "output_type": "stream",
     "text": [
      "\n",
      "Accuracy: 2292/2991 (76.63%)\n",
      "\n"
     ]
    }
   ],
   "source": [
    "model.eval()  # Set the model to evaluation mode\n",
    "correct = 0\n",
    "\n",
    "# Create DataLoader\n",
    "test_dataset = TensorDataset(x_test, y_test)\n",
    "test_loader = DataLoader(dataset=test_dataset, batch_size=batch_size, shuffle=True)\n",
    "\n",
    "# Testing phase\n",
    "with torch.no_grad():\n",
    "    \n",
    "    for data, target in test_loader:\n",
    "        data, target = data.to(device), target.to(device)\n",
    "\n",
    "        # Convert outputs to predicted class labels\n",
    "        predicted = (outputs > 0.5).float()  # Assuming sigmoid threshold of 0.5 for binary classification\n",
    "        predicted_labels = predicted.squeeze().cpu().numpy()\n",
    "        true_labels = labels.squeeze().cpu().numpy()\n",
    "\n",
    "        for i in range(len(predicted_labels)):\n",
    "            if predicted_labels[i] == true_labels[i]:\n",
    "                correct += 1\n",
    "\n",
    "\n",
    "print('\\nAccuracy: {}/{} ({:.2f}%)\\n'.format(\n",
    "    correct, len(test_loader.dataset),\n",
    "    100. * correct / len(test_loader.dataset)))\n"
   ]
  }
 ],
 "metadata": {
  "kernelspec": {
   "display_name": "Python 3 (ipykernel)",
   "language": "python",
   "name": "python3"
  },
  "language_info": {
   "codemirror_mode": {
    "name": "ipython",
    "version": 3
   },
   "file_extension": ".py",
   "mimetype": "text/x-python",
   "name": "python",
   "nbconvert_exporter": "python",
   "pygments_lexer": "ipython3",
   "version": "3.12.2"
  }
 },
 "nbformat": 4,
 "nbformat_minor": 5
}
